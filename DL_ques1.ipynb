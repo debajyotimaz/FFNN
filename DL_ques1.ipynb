{
  "nbformat": 4,
  "nbformat_minor": 0,
  "metadata": {
    "colab": {
      "provenance": []
    },
    "kernelspec": {
      "name": "python3",
      "display_name": "Python 3"
    },
    "language_info": {
      "name": "python"
    },
    "accelerator": "GPU",
    "gpuClass": "standard"
  },
  "cells": [
    {
      "cell_type": "code",
      "execution_count": 1,
      "metadata": {
        "id": "S00n_svUgkjt",
        "colab": {
          "base_uri": "https://localhost:8080/"
        },
        "outputId": "5d8ef771-a2fb-4f93-bcc7-5dbfc1d66b34"
      },
      "outputs": [
        {
          "output_type": "stream",
          "name": "stdout",
          "text": [
            "--2023-03-27 14:33:58--  http://ufldl.stanford.edu/housenumbers/train_32x32.mat\n",
            "Resolving ufldl.stanford.edu (ufldl.stanford.edu)... 171.64.68.10\n",
            "Connecting to ufldl.stanford.edu (ufldl.stanford.edu)|171.64.68.10|:80... connected.\n",
            "HTTP request sent, awaiting response... 200 OK\n",
            "Length: 182040794 (174M) [text/plain]\n",
            "Saving to: ‘train_32x32.mat.2’\n",
            "\n",
            "train_32x32.mat.2   100%[===================>] 173.61M  16.3MB/s    in 14s     \n",
            "\n",
            "2023-03-27 14:34:12 (12.7 MB/s) - ‘train_32x32.mat.2’ saved [182040794/182040794]\n",
            "\n",
            "--2023-03-27 14:34:12--  http://ufldl.stanford.edu/housenumbers/test_32x32.mat\n",
            "Resolving ufldl.stanford.edu (ufldl.stanford.edu)... 171.64.68.10\n",
            "Connecting to ufldl.stanford.edu (ufldl.stanford.edu)|171.64.68.10|:80... connected.\n",
            "HTTP request sent, awaiting response... 200 OK\n",
            "Length: 64275384 (61M) [text/plain]\n",
            "Saving to: ‘test_32x32.mat.2’\n",
            "\n",
            "test_32x32.mat.2    100%[===================>]  61.30M  14.9MB/s    in 6.9s    \n",
            "\n",
            "2023-03-27 14:34:19 (8.90 MB/s) - ‘test_32x32.mat.2’ saved [64275384/64275384]\n",
            "\n"
          ]
        }
      ],
      "source": [
        "# get the data\n",
        "!wget http://ufldl.stanford.edu/housenumbers/train_32x32.mat\n",
        "!wget http://ufldl.stanford.edu/housenumbers/test_32x32.mat"
      ]
    },
    {
      "cell_type": "code",
      "source": [
        "import numpy as np"
      ],
      "metadata": {
        "id": "tDop8MZJW0e-"
      },
      "execution_count": 2,
      "outputs": []
    },
    {
      "cell_type": "code",
      "source": [
        "# to convert .mat format into numpy array use the given code\n",
        "import scipy.io\n",
        "train_data = scipy.io.loadmat(\"train_32x32.mat\")\n",
        "X_train = train_data['X']\n",
        "y_train = train_data['y']\n",
        "test_data = scipy.io.loadmat(\"test_32x32.mat\")\n",
        "X_test = test_data['X']\n",
        "y_test = test_data['y']"
      ],
      "metadata": {
        "id": "GW9yYtxhgoBX"
      },
      "execution_count": 3,
      "outputs": []
    },
    {
      "cell_type": "code",
      "source": [
        "X_train.shape, X_test.shape"
      ],
      "metadata": {
        "colab": {
          "base_uri": "https://localhost:8080/"
        },
        "id": "CBNKsyKYgvpU",
        "outputId": "ef6a3727-c065-4822-f303-81ae413d3fcb"
      },
      "execution_count": 4,
      "outputs": [
        {
          "output_type": "execute_result",
          "data": {
            "text/plain": [
              "((32, 32, 3, 73257), (32, 32, 3, 26032))"
            ]
          },
          "metadata": {},
          "execution_count": 4
        }
      ]
    },
    {
      "cell_type": "code",
      "source": [
        "d1, d2, d3, d4 = X_train.shape\n",
        "X_train = X_train.reshape((d1*d2*d3, d4))\n",
        "X_test = X_train.reshape((d1*d2*d3, d4))"
      ],
      "metadata": {
        "id": "G97-noawgxkd"
      },
      "execution_count": 5,
      "outputs": []
    },
    {
      "cell_type": "code",
      "source": [
        "X_train.shape, type(X_train)"
      ],
      "metadata": {
        "colab": {
          "base_uri": "https://localhost:8080/"
        },
        "id": "4_n8nqxFg1eV",
        "outputId": "beaafd14-e8f4-4ed7-eaba-8d4c7f0f5f12"
      },
      "execution_count": 6,
      "outputs": [
        {
          "output_type": "execute_result",
          "data": {
            "text/plain": [
              "((3072, 73257), numpy.ndarray)"
            ]
          },
          "metadata": {},
          "execution_count": 6
        }
      ]
    },
    {
      "cell_type": "code",
      "source": [
        "# Normalize the images by dividing by 255\n",
        "\n",
        "X_train = ((X_train/255).T).astype('float32')\n",
        "X_test = ((X_test/255).T).astype('float32')\n",
        "y_train = y_train.astype('int64')\n",
        "y_test = y_test.astype('int64')"
      ],
      "metadata": {
        "id": "_VQ6tUNlg37N"
      },
      "execution_count": 7,
      "outputs": []
    },
    {
      "cell_type": "code",
      "source": [
        "np.unique(y_train-1)"
      ],
      "metadata": {
        "colab": {
          "base_uri": "https://localhost:8080/"
        },
        "id": "grco56xKkQt4",
        "outputId": "7ba10f10-00b5-4513-8091-c3b37483d07c"
      },
      "execution_count": 8,
      "outputs": [
        {
          "output_type": "execute_result",
          "data": {
            "text/plain": [
              "array([0, 1, 2, 3, 4, 5, 6, 7, 8, 9])"
            ]
          },
          "metadata": {},
          "execution_count": 8
        }
      ]
    },
    {
      "cell_type": "code",
      "source": [
        "y_train = y_train - 1\n",
        "y_test = y_test - 1\n",
        "np.unique(y_train)"
      ],
      "metadata": {
        "colab": {
          "base_uri": "https://localhost:8080/"
        },
        "id": "Y7N0YFd3km5R",
        "outputId": "2ad67111-09fb-47c3-cbb6-056a3b622a2c"
      },
      "execution_count": 9,
      "outputs": [
        {
          "output_type": "execute_result",
          "data": {
            "text/plain": [
              "array([0, 1, 2, 3, 4, 5, 6, 7, 8, 9])"
            ]
          },
          "metadata": {},
          "execution_count": 9
        }
      ]
    },
    {
      "cell_type": "code",
      "source": [
        "X_train.shape"
      ],
      "metadata": {
        "colab": {
          "base_uri": "https://localhost:8080/"
        },
        "id": "Rby21VKtix9B",
        "outputId": "e6df0327-4c86-460a-b9ac-8c981919e60e"
      },
      "execution_count": 10,
      "outputs": [
        {
          "output_type": "execute_result",
          "data": {
            "text/plain": [
              "(73257, 3072)"
            ]
          },
          "metadata": {},
          "execution_count": 10
        }
      ]
    },
    {
      "cell_type": "code",
      "source": [
        "from random import uniform\n",
        "import numpy as np\n",
        "\n",
        "#Xavier-initialization\n",
        "n_inputs, n_hidden1, n_hidden2, n_outputs = (3072, 500, 100, 10)\n",
        "W1 = np.array([[uniform(-1/4, 1/4) for i in range(n_inputs)] for i in range(n_hidden1)]).T\n",
        "b1 = np.array([uniform(-1/4, 1/4) for i in range(n_hidden1)]).reshape(n_hidden1).T\n",
        "W2 = np.array([[uniform(-1/4, 1/4) for i in range(n_hidden1)] for i in range(n_hidden2)]).T\n",
        "b2 = np.array([uniform(-1/4, 1/4) for i in range(n_hidden2)]).reshape(n_hidden2).T\n",
        "W3 = np.array([[uniform(-1/4, 1/4) for i in range(n_hidden2)] for i in range(n_outputs)]).T\n",
        "b3 = np.array([uniform(-1/4, 1/4) for i in range(n_outputs)]).reshape(n_outputs).T\n",
        "W1.shape, b1.shape"
      ],
      "metadata": {
        "colab": {
          "base_uri": "https://localhost:8080/"
        },
        "id": "WMT6i17giG2Q",
        "outputId": "a6139c12-8f01-46d3-93af-aa5812950d88"
      },
      "execution_count": 11,
      "outputs": [
        {
          "output_type": "execute_result",
          "data": {
            "text/plain": [
              "((3072, 500), (500,))"
            ]
          },
          "metadata": {},
          "execution_count": 11
        }
      ]
    },
    {
      "cell_type": "code",
      "source": [
        "batch_size = 32\n",
        "n = batch_size # a shorter variable also, for convenience"
      ],
      "metadata": {
        "id": "8vWMV3kCqEhH"
      },
      "execution_count": 12,
      "outputs": []
    },
    {
      "cell_type": "code",
      "source": [
        "# # X_batch = X_train[:batch_size, :]\n",
        "# # # y_batch = y_train[:batch_size, :]\n",
        "# # y_batch = y_train[:batch_size].squeeze()\n",
        "# # X_batch.shape, y_batch.shape\n",
        "# g = torch.Generator().manual_seed(2147483647) # for reproducibility\n",
        "\n",
        "# ix = torch.randint(0, X_train.shape[0], (batch_size,), generator=g)\n",
        "# Xb, Yb = X_train[ix], y_train[ix].squeeze() # batch X,Y\n",
        "# Xb.shape, Yb.shape"
      ],
      "metadata": {
        "id": "TPUi3qjLkv7X"
      },
      "execution_count": 13,
      "outputs": []
    },
    {
      "cell_type": "code",
      "source": [
        "rng = np.random.default_rng(seed=2147483647)\n",
        "ix = rng.choice(X_train.shape[0], size=batch_size, replace=False)\n",
        "Xb, Yb = X_train[ix], y_train[ix].squeeze() # batch X,Y\n",
        "Xb.shape, Yb.shape"
      ],
      "metadata": {
        "colab": {
          "base_uri": "https://localhost:8080/"
        },
        "id": "Ss9CM2Kzh18F",
        "outputId": "ec053269-7cd4-4ca9-ce51-8d5c0374707f"
      },
      "execution_count": 14,
      "outputs": [
        {
          "output_type": "execute_result",
          "data": {
            "text/plain": [
              "((32, 3072), (32,))"
            ]
          },
          "metadata": {},
          "execution_count": 14
        }
      ]
    },
    {
      "cell_type": "code",
      "source": [
        "# # utility function we will use later when comparing manual gradients to PyTorch gradients\n",
        "# def cmp(s, dt, t):\n",
        "#   ex = torch.all(dt == t.grad).item()\n",
        "#   app = torch.allclose(dt, t.grad)\n",
        "#   maxdiff = (dt - t.grad).abs().max().item()\n",
        "#   print(f'{s:15s} | exact: {str(ex):5s} | approximate: {str(app):5s} | maxdiff: {maxdiff}')\n",
        "\n",
        "# parameters = [W1, b1, W2, b2, W3, b3]\n",
        "# print(\"number of parameters in total:\",sum(p.nelement() for p in parameters)) # number of parameters in total\n",
        "# for p in parameters:\n",
        "#   p.requires_grad = True"
      ],
      "metadata": {
        "id": "vqrTIZQFrkGs"
      },
      "execution_count": 15,
      "outputs": []
    },
    {
      "cell_type": "code",
      "source": [
        "parameters = [W1, b1, W2, b2, W3, b3]\n",
        "total_params = sum(p.size for p in parameters)\n",
        "print(\"number of parameters in total:\", total_params) # number of parameters in total\n",
        "for p in parameters:\n",
        "    p.setflags(write=True)"
      ],
      "metadata": {
        "colab": {
          "base_uri": "https://localhost:8080/"
        },
        "id": "Dw6Csom_isDQ",
        "outputId": "86019d90-9756-48f5-eabc-e19764198454"
      },
      "execution_count": 16,
      "outputs": [
        {
          "output_type": "stream",
          "name": "stdout",
          "text": [
            "number of parameters in total: 1587610\n"
          ]
        }
      ]
    },
    {
      "cell_type": "code",
      "source": [
        "def sigmoid(x):\n",
        "    return 1.0 / (1.0 + np.exp(-x))\n",
        "\n",
        "def dsigmoid(x):\n",
        "    # s = sigmoid(x)\n",
        "    s = x \n",
        "    return s * (1.0 - s)"
      ],
      "metadata": {
        "id": "nWui3uvarAHW"
      },
      "execution_count": 17,
      "outputs": []
    },
    {
      "cell_type": "code",
      "source": [
        "# # forward pass\n",
        "# # Linear layer 1\n",
        "# hpre1 = Xb @ W1 + b1 # hidden layer pre-activation\n",
        "# # Non-linearity\n",
        "# h1 = torch.tanh(hpre1) # hidden layerlogprobs\n",
        "\n",
        "# # Linear layer 2\n",
        "# hpre2 = h1 @ W2 + b2 # hidden layer pre-activation\n",
        "# # Non-linearity\n",
        "# h2 = torch.tanh(hpre2) # hidden layerlogprobs\n",
        "\n",
        "# # Linear layer 3\n",
        "# logits = h2 @ W3 + b3 # output layer\n",
        "\n",
        "# # cross entropy loss (same as F.cross_entropy(logits, Yb))\n",
        "# logit_maxes = logits.max(1, keepdim=True).values\n",
        "# norm_logits = logits - logit_maxes # subtract max for numerical stability\n",
        "# counts = norm_logits.exp()\n",
        "# counts_sum = counts.sum(1, keepdims=True)\n",
        "# counts_sum_inv = counts_sum**-1 # if I use (1.0 / counts_sum) instead then I can't get backprop to be bit exact...\n",
        "# probs = counts * counts_sum_inv\n",
        "# logprobs = probs.log()\n",
        "# loss = -logprobs[range(n), Yb].mean()\n",
        "# loss\n",
        "\n",
        "# forward pass\n",
        "# Linear layer 1\n",
        "hpre1 = Xb @ W1 + b1 # hidden layer pre-activation\n",
        "# Non-linearity\n",
        "# h1 = np.tanh(hpre1) # hidden post-activation\n",
        "h1 = sigmoid(hpre1) # hidden post-activation\n",
        "\n",
        "# Linear layer 2\n",
        "hpre2 = h1 @ W2 + b2 # hidden layer pre-activation\n",
        "# Non-linearity\n",
        "# h2 = np.tanh(hpre2) # hidden post-activation\n",
        "h2 = sigmoid(hpre2) # hidden post-activation\n",
        "\n",
        "# Linear layer 3\n",
        "logits = h2 @ W3 + b3 # output layer\n",
        "\n",
        "# cross entropy loss\n",
        "logit_maxes = np.max(logits, axis=1, keepdims=True)\n",
        "norm_logits = logits - logit_maxes\n",
        "counts = np.exp(norm_logits)\n",
        "counts_sum = np.sum(counts, axis=1, keepdims=True)\n",
        "counts_sum_inv = counts_sum**-1\n",
        "probs = counts * counts_sum_inv\n",
        "logprobs = np.log(probs)\n",
        "loss = -logprobs[np.arange(n), Yb].mean()\n",
        "loss"
      ],
      "metadata": {
        "colab": {
          "base_uri": "https://localhost:8080/"
        },
        "id": "sj9poA-bjrEU",
        "outputId": "32a632ea-ae02-4770-e45c-857a5299312b"
      },
      "execution_count": 18,
      "outputs": [
        {
          "output_type": "execute_result",
          "data": {
            "text/plain": [
              "2.4875401903104946"
            ]
          },
          "metadata": {},
          "execution_count": 18
        }
      ]
    },
    {
      "cell_type": "code",
      "source": [
        "# # parameters = [W1, b1, W2, b2, W3, b3]\n",
        "# # print(\"number of parameters in total:\",sum(p.nelement() for p in parameters)) # number of parameters in total\n",
        "# # for p in parameters:\n",
        "# #   p.requires_grad = True\n",
        "\n",
        "# # PyTorch backward pass\n",
        "# for p in parameters:\n",
        "#   p.grad = None\n",
        "# for t in [logprobs, probs, counts, counts_sum, counts_sum_inv, # afaik there is no cleaner way\n",
        "#           norm_logits, logit_maxes, logits, h2, hpre2, h1, hpre1]:\n",
        "#   t.retain_grad()\n",
        "# loss.backward()\n",
        "# loss"
      ],
      "metadata": {
        "id": "guGqwRirtIAl"
      },
      "execution_count": 19,
      "outputs": []
    },
    {
      "cell_type": "code",
      "source": [
        "# Exercise 1: backprop through the whole thing manually, \n",
        "# backpropagating through exactly all of the variables \n",
        "# as they are defined in the forward pass above, one by one\n",
        "\n",
        "dlogprobs = np.zeros_like(logprobs)\n",
        "dlogprobs[np.arange(n), Yb] = -1.0/n\n",
        "dprobs = (1.0 / probs) * dlogprobs\n",
        "dcounts_sum_inv = (counts * dprobs).sum(1, keepdims=True)\n",
        "dcounts = counts_sum_inv * dprobs\n",
        "dcounts_sum = (-counts_sum**-2) * dcounts_sum_inv\n",
        "dcounts += np.ones_like(counts) * dcounts_sum\n",
        "dnorm_logits = counts * dcounts\n",
        "dlogits = dnorm_logits.copy()\n",
        "dlogit_maxes = (-dnorm_logits).sum(1, keepdims=True)\n",
        "dlogits += np.eye(logits.shape[1])[np.argmax(logits, axis=1)] * dlogit_maxes\n",
        "dh2 = dlogits @ W3.T\n",
        "dW3 = h2.T @ dlogits\n",
        "db3 = dlogits.sum(0)\n",
        "# dhpre2 = (1.0 - h2**2) * dh2\n",
        "dhpre2 = dsigmoid(h2)\n",
        "dh1 = dhpre2 @ W2.T\n",
        "dW2 = h1.T @ dhpre2\n",
        "db2 = dhpre2.sum(0)\n",
        "# dhpre1 = (1.0 - h1**2) * dh1\n",
        "dhpre1 = dsigmoid(h1)\n",
        "dW1 = Xb.T @ dhpre1\n",
        "db1 = dhpre1.sum(0)\n",
        "\n",
        "# dlogprobs = torch.zeros_like(logprobs)\n",
        "# dlogprobs[range(n), Yb] = -1.0/n\n",
        "# dprobs = (1.0 / probs) * dlogprobs\n",
        "# dcounts_sum_inv = (counts * dprobs).sum(1, keepdim=True)\n",
        "# dcounts = counts_sum_inv * dprobs\n",
        "# dcounts_sum = (-counts_sum**-2) * dcounts_sum_inv\n",
        "# dcounts += torch.ones_like(counts) * dcounts_sum\n",
        "# dnorm_logits = counts * dcounts\n",
        "# dlogits = dnorm_logits.clone()\n",
        "# dlogit_maxes = (-dnorm_logits).sum(1, keepdim=True)\n",
        "# dlogits += F.one_hot(logits.max(1).indices, num_classes=logits.shape[1]) * dlogit_maxes\n",
        "# dh2 = dlogits @ W3.T\n",
        "# dW3 = h2.T @ dlogits\n",
        "# db3 = dlogits.sum(0)\n",
        "# dhpre2 = (1.0 - h2**2) * dh2\n",
        "# dh1 = dhpre2 @ W2.T\n",
        "# dW2 = h1.T @ dhpre2\n",
        "# db2 = dhpre2.sum(0)\n",
        "# dhpre1 = (1.0 - h1**2) * dh1\n",
        "# dW1 = Xb.T @ dhpre1\n",
        "# db1 = dhpre1.sum(0)\n",
        "\n",
        "#------------------------------------------------\n",
        "    \n",
        "# cmp('logprobs', dlogprobs, logprobs)\n",
        "# cmp('probs', dprobs, probs)\n",
        "# cmp('counts_sum_inv', dcounts_sum_inv, counts_sum_inv)\n",
        "# cmp('counts_sum', dcounts_sum, counts_sum)\n",
        "# cmp('counts', dcounts, counts)\n",
        "# cmp('norm_logits', dnorm_logits, norm_logits)\n",
        "# cmp('logit_maxes', dlogit_maxes, logit_maxes)\n",
        "# cmp('logits', dlogits, logits)\n",
        "# cmp('h2', dh2, h2)\n",
        "# cmp('W3', dW3, W3)\n",
        "# cmp('b3', db3, b3)\n",
        "# cmp('hpre2', dhpre2, hpre2)\n",
        "# cmp('h1', dh1, h1)\n",
        "# cmp('W2', dW2, W2)\n",
        "# cmp('b2', db2, b2)\n",
        "# cmp('hpre1', dhpre1, hpre1)\n",
        "# cmp('W1', dW1, W1)\n",
        "# cmp('b1', db1, b1)\n"
      ],
      "metadata": {
        "id": "_ZayXr4brjE7"
      },
      "execution_count": 20,
      "outputs": []
    },
    {
      "cell_type": "code",
      "source": [
        "optimizer = \"sgd\"\n",
        "# optimizer = \"rmsprop\"\n",
        "\n",
        "max_steps = 200\n",
        "batch_size = 32\n",
        "n = batch_size # convenience\n",
        "lossi = []\n",
        "\n",
        "cache = [np.zeros_like(param) for param in parameters]\n",
        "beta = 0.9\n",
        "epsilon = 1e-8\n",
        "\n",
        "# kick off optimization\n",
        "for i in range(max_steps):\n",
        "\n",
        "    # minibatch construct\n",
        "    ix = rng.choice(X_train.shape[0], size=batch_size, replace=False)\n",
        "    Xb, Yb = X_train[ix], y_train[ix].squeeze() # batch X,Y\n",
        "\n",
        "    # forward pass\n",
        "    # Linear layer 1\n",
        "    hpre1 = Xb @ W1 + b1 # hidden layer pre-activation\n",
        "    # Non-linearity\n",
        "    h1 = sigmoid(hpre1) # hidden post-activation\n",
        "\n",
        "    # Linear layer 2\n",
        "    hpre2 = h1 @ W2 + b2 # hidden layer pre-activation\n",
        "    # Non-linearity\n",
        "    h2 = sigmoid(hpre2) # hidden post-activation\n",
        "\n",
        "    # Linear layer 3\n",
        "    logits = h2 @ W3 + b3 # output layer\n",
        "\n",
        "    # cross entropy loss\n",
        "    logit_maxes = np.max(logits, axis=1, keepdims=True)\n",
        "    norm_logits = logits - logit_maxes\n",
        "    counts = np.exp(norm_logits)\n",
        "    counts_sum = np.sum(counts, axis=1, keepdims=True)\n",
        "    counts_sum_inv = counts_sum**-1\n",
        "    probs = counts * counts_sum_inv\n",
        "    logprobs = np.log(probs)\n",
        "    loss = -logprobs[np.arange(n), Yb].mean()\n",
        "\n",
        "    # # backward pass\n",
        "\n",
        "    # manual backprop! #swole_doge_meme\n",
        "    # -----------------\n",
        "    dlogprobs = np.zeros_like(logprobs)\n",
        "    dlogprobs[np.arange(n), Yb] = -1.0/n\n",
        "    dprobs = (1.0 / probs) * dlogprobs\n",
        "    dcounts_sum_inv = (counts * dprobs).sum(1, keepdims=True)\n",
        "    dcounts = counts_sum_inv * dprobs\n",
        "    dcounts_sum = (-counts_sum**-2) * dcounts_sum_inv\n",
        "    dcounts += np.ones_like(counts) * dcounts_sum\n",
        "    dnorm_logits = counts * dcounts\n",
        "    dlogits = dnorm_logits.copy()\n",
        "    dlogit_maxes = (-dnorm_logits).sum(1, keepdims=True)\n",
        "    dlogits += np.eye(logits.shape[1])[np.argmax(logits, axis=1)] * dlogit_maxes\n",
        "    dh2 = dlogits @ W3.T\n",
        "    dW3 = h2.T @ dlogits\n",
        "    db3 = dlogits.sum(0)\n",
        "    dhpre2 = dsigmoid(h2)\n",
        "    dh1 = dhpre2 @ W2.T\n",
        "    dW2 = h1.T @ dhpre2\n",
        "    db2 = dhpre2.sum(0)\n",
        "    dhpre1 = dsigmoid(h1)\n",
        "    dW1 = Xb.T @ dhpre1\n",
        "    db1 = dhpre1.sum(0)\n",
        "    grads = [dW1, db1, dW2, db2, dW3, db3]\n",
        "    # -----------------\n",
        "\n",
        "    # update\n",
        "    lr = 0.1 if i < 100 else 0.01 # step learning rate decay\n",
        "    if optimizer==\"sgd\":\n",
        "      # Stochastic Gradient Descent (SGD)\n",
        "      for p, grad in zip(parameters, grads):\n",
        "        #p.data += -lr * p.grad # old way of cheems doge (using PyTorch grad from .backward())\n",
        "        p += -lr * grad # new way of swole doge TODO: enable\n",
        "      \n",
        "    if optimizer == \"rmsprop\":\n",
        "        for p, grad, c in zip(parameters, grads, cache):\n",
        "            c = beta * c + (1 - beta) * grad ** 2\n",
        "            p += - lr * grad / (np.sqrt(c) + epsilon)\n",
        "\n",
        "    # track stats\n",
        "    if i % 20 == 0: # print every once in a while\n",
        "      print(f'{i:7d}/{max_steps:1d}: {loss:.4f}')\n",
        "    lossi.append(np.log10(loss.item()))\n",
        "\n",
        "  #   if i >= 100: # TODO: delete early breaking when you're ready to train the full net\n",
        "  #     break"
      ],
      "metadata": {
        "colab": {
          "base_uri": "https://localhost:8080/"
        },
        "id": "ttAfxs_ej16d",
        "outputId": "77c18d73-0e25-446d-ff4d-4343d878a068"
      },
      "execution_count": 21,
      "outputs": [
        {
          "output_type": "stream",
          "name": "stdout",
          "text": [
            "      0/200: 2.4297\n"
          ]
        },
        {
          "output_type": "stream",
          "name": "stderr",
          "text": [
            "<ipython-input-17-2f07b60c5344>:2: RuntimeWarning: overflow encountered in exp\n",
            "  return 1.0 / (1.0 + np.exp(-x))\n"
          ]
        },
        {
          "output_type": "stream",
          "name": "stdout",
          "text": [
            "     20/200: 2.3100\n",
            "     40/200: 2.2587\n",
            "     60/200: 2.2826\n",
            "     80/200: 2.2115\n",
            "    100/200: 2.3225\n",
            "    120/200: 2.3190\n",
            "    140/200: 2.3161\n",
            "    160/200: 2.2731\n",
            "    180/200: 2.2953\n"
          ]
        }
      ]
    },
    {
      "cell_type": "code",
      "source": [
        "def f1_score(y_true, y_pred):\n",
        "    # y_pred = np.array(y_pred_probs.argmax(1))\n",
        "    # y_true = y_true.ravel()\n",
        "    # get unique labels\n",
        "    y_true = y_true.squeeze()\n",
        "    # print(y_pred.shape, y_true.shape)\n",
        "    labels = np.unique(np.concatenate((y_true, y_pred)))\n",
        "    # print(np.unique(y_pred))\n",
        "    # initialize variables to store precision, recall, and f1 score\n",
        "    precision = np.zeros(len(labels))\n",
        "    recall = np.zeros(len(labels))\n",
        "    f1 = np.zeros(len(labels))\n",
        "    \n",
        "    # iterate over each label\n",
        "    for i, label in enumerate(labels):\n",
        "        # calculate true positives, false positives, and false negatives\n",
        "        tp = np.sum((y_true == label) & (y_pred == label))\n",
        "        fp = np.sum((y_true != label) & (y_pred == label))\n",
        "        fn = np.sum((y_true == label) & (y_pred != label))\n",
        "        \n",
        "        # calculate precision, recall, and f1 score\n",
        "        if tp == 0:\n",
        "            precision[i] = 0\n",
        "            recall[i] = 0\n",
        "            f1[i] = 0\n",
        "        else:\n",
        "            precision[i] = tp / (tp + fp)\n",
        "            recall[i] = tp / (tp + fn)\n",
        "            f1[i] = 2 * (precision[i] * recall[i]) / (precision[i] + recall[i])\n",
        "    \n",
        "    # weighted average of f1 score\n",
        "    f1_score = np.sum(f1) / len(labels)\n",
        "    return f1_score"
      ],
      "metadata": {
        "id": "xIP4Nm9JkvL0"
      },
      "execution_count": 22,
      "outputs": []
    },
    {
      "cell_type": "code",
      "source": [
        "# evaluate train and test loss\n",
        "probs=None\n",
        "def split_loss(split):\n",
        "    x,y = {\n",
        "      'train': (X_train, y_train),\n",
        "      # 'val': (X_val, Ydev),\n",
        "      'test': (X_test, y_test),\n",
        "    }[split]\n",
        "    # forward pass\n",
        "    # Linear layer 1\n",
        "    hpre1 = x @ W1 + b1 # hidden layer pre-activation\n",
        "    # Non-linearity\n",
        "    h1 = np.tanh(hpre1) # hidden post-activation\n",
        "\n",
        "    # Linear layer 2\n",
        "    hpre2 = h1 @ W2 + b2 # hidden layer pre-activation\n",
        "    # Non-linearity\n",
        "    h2 = np.tanh(hpre2) # hidden post-activation\n",
        "\n",
        "    # Linear layer 3\n",
        "    logits = h2 @ W3 + b3 # output layer\n",
        "\n",
        "    # cross entropy loss\n",
        "    logit_maxes = np.max(logits, axis=1, keepdims=True)\n",
        "    norm_logits = logits - logit_maxes\n",
        "    counts = np.exp(norm_logits)\n",
        "    counts_sum = np.sum(counts, axis=1, keepdims=True)\n",
        "    counts_sum_inv = counts_sum**-1\n",
        "    # global probs\n",
        "    probs = counts * counts_sum_inv\n",
        "    logprobs = np.log(probs)\n",
        "    loss = -logprobs[np.arange(n), y].mean()\n",
        "    print(split+\" loss:\", loss.item())\n",
        "\n",
        "    if split==\"test\":\n",
        "        # make predictions\n",
        "        preds = np.argmax(probs, axis=1)\n",
        "\n",
        "        # calculate accuracy\n",
        "        acc = np.mean(preds == y_test)\n",
        "        print(\"accuracy:\", acc)\n",
        "\n",
        "        # calculate f1 score\n",
        "        f1 = f1_score(y_train, preds)\n",
        "        print(\"f1 score:\", f1)\n",
        "\n",
        "split_loss('train')\n",
        "split_loss('test')"
      ],
      "metadata": {
        "colab": {
          "base_uri": "https://localhost:8080/"
        },
        "id": "Pc-a_ky8YYoW",
        "outputId": "90e85693-9589-4c63-e6c7-4705c3f2f595"
      },
      "execution_count": 23,
      "outputs": [
        {
          "output_type": "stream",
          "name": "stdout",
          "text": [
            "train loss: 2.982219565960013\n",
            "test loss: 2.9425288784721384\n",
            "accuracy: 0.1958743085433313\n",
            "f1 score: 0.03182120801671297\n"
          ]
        }
      ]
    },
    {
      "cell_type": "code",
      "source": [],
      "metadata": {
        "id": "T-2kohRFcISO"
      },
      "execution_count": 23,
      "outputs": []
    }
  ]
}